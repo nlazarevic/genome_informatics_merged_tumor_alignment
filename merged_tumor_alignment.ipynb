{
 "cells": [
  {
   "cell_type": "markdown",
   "metadata": {},
   "source": [
    "Importing \"pysam\" - a Python toolkit for working with genomic files"
   ]
  },
  {
   "cell_type": "code",
   "execution_count": 1,
   "metadata": {},
   "outputs": [],
   "source": [
    "import pysam"
   ]
  },
  {
   "cell_type": "markdown",
   "metadata": {},
   "source": [
    "Create an AlignmentFile object for “merged-tumor.bam”\n",
    "* Take the first read from the AlignmentFile\n",
    "* Inspect the fields in the AlignedSegment\n",
    "* Inspect the flag field"
   ]
  },
  {
   "cell_type": "code",
   "execution_count": 7,
   "metadata": {},
   "outputs": [
    {
     "name": "stdout",
     "output_type": "stream",
     "text": [
      "First read:  C0HVYACXX120402:7:1207:5722:57044\t1187\t20\t9483248\t27\t76M\t20\t9483381\t76\tTTTTCAAACAGTATCTATGCCTGCCAAATGTGAACATATAAAAAAAAACCAGAATGTGCCATTCTGATTTAAACTG\tarray('B', [28, 28, 27, 29, 31, 30, 31, 31, 29, 31, 35, 30, 29, 31, 34, 30, 29, 23, 41, 32, 20, 30, 29, 34, 34, 29, 30, 31, 30, 30, 30, 33, 33, 26, 39, 12, 25, 19, 32, 30, 35, 28, 35, 33, 23, 33, 35, 36, 30, 38, 33, 41, 34, 35, 31, 33, 23, 30, 30, 36, 27, 32, 29, 34, 35, 41, 33, 31, 33, 29, 32, 32, 31, 31, 31, 34])\t[('XA', 'GL000217.1,-110754,76M,1;'), ('BD', 'NNNNNNNNNNNNNNNNNNNNNNNNNNNNNNNNNNNNNNNNNNNNNNNNNNNNNNNNNNNNNNNNNNNNNNNNNNNN'), ('MD', '76'), ('RG', '1'), ('BI', 'NNNNNNNNNNNNNNNNNNNNNNNNNNNNNNNNNNNNNNNNNNNNNNNNNNNNNNNNNNNNNNNNNNNNNNNNNNNN'), ('NM', 0), ('MQ', 27), ('AS', 76), ('XS', 71)]\n",
      "Flag field:  1187\n"
     ]
    }
   ],
   "source": [
    "samfile = pysam.AlignmentFile(\"merged-tumor.bam\")\n",
    "for read in samfile:\n",
    "    first_read = read\n",
    "    break;\n",
    "print(\"First read: \", first_read)\n",
    "print(\"Flag field: \", first_read.flag)\n",
    "samfile.close()"
   ]
  },
  {
   "cell_type": "markdown",
   "metadata": {},
   "source": [
    "Calculate:\n",
    "* How many unmapped reads are in the file?\n",
    "* Total number of reads\n",
    "* Number of reads with mapping quality 0\n",
    "* Average mapping quality for all the reads\n",
    "* Average mapping quality if reads with 0 map quality are filtered out"
   ]
  },
  {
   "cell_type": "code",
   "execution_count": 9,
   "metadata": {},
   "outputs": [
    {
     "name": "stdout",
     "output_type": "stream",
     "text": [
      "Number of unmapped reads:  17765\n",
      "Total number of reads:  2921629\n",
      "Number of reads with mapping quality 0:  126628\n",
      "Average mapping quality of all reads:  55.91379158681681\n",
      "Average mapping quality without 0 map quality reads:  58.446975510921106\n"
     ]
    }
   ],
   "source": [
    "samfile = pysam.AlignmentFile(\"merged-tumor.bam\")\n",
    "\n",
    "num_unmapped = 0\n",
    "total_num_reads = 0\n",
    "num_zero_quality_reads = 0\n",
    "avg_mapping_quality = 0\n",
    "avg_mapping_quality_without_zero_quality_reads = 0\n",
    "total_map_quality = 0\n",
    "\n",
    "for read in samfile:\n",
    "    total_num_reads += 1\n",
    "    if read.mapping_quality == 0:\n",
    "        num_zero_quality_reads += 1\n",
    "    total_map_quality += read.mapping_quality\n",
    "    if read.is_unmapped:\n",
    "        num_unmapped += 1\n",
    "        \n",
    "print(\"Number of unmapped reads: \", num_unmapped)\n",
    "print(\"Total number of reads: \", total_num_reads)\n",
    "print(\"Number of reads with mapping quality 0: \", num_zero_quality_reads)\n",
    "print(\"Average mapping quality of all reads: \", (total_map_quality/total_num_reads))\n",
    "print(\"Average mapping quality without 0 map quality reads: \", (total_map_quality/(total_num_reads-num_zero_quality_reads)))\n",
    "\n",
    "samfile.close()"
   ]
  },
  {
   "cell_type": "code",
   "execution_count": null,
   "metadata": {},
   "outputs": [],
   "source": []
  }
 ],
 "metadata": {
  "kernelspec": {
   "display_name": "Python 3",
   "language": "python",
   "name": "python3"
  },
  "language_info": {
   "codemirror_mode": {
    "name": "ipython",
    "version": 3
   },
   "file_extension": ".py",
   "mimetype": "text/x-python",
   "name": "python",
   "nbconvert_exporter": "python",
   "pygments_lexer": "ipython3",
   "version": "3.6.3"
  }
 },
 "nbformat": 4,
 "nbformat_minor": 2
}
